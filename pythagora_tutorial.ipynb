{
 "cells": [
  {
   "cell_type": "markdown",
   "source": [
    "# Introduction to Pythagora\n",
    "\n",
    "Pythagora (Pyth-agora) is...."
   ],
   "metadata": {
    "collapsed": false
   },
   "id": "1d755408a8275687"
  },
  {
   "cell_type": "code",
   "execution_count": null,
   "outputs": [],
   "source": [],
   "metadata": {
    "collapsed": false,
    "ExecuteTime": {
     "end_time": "2024-08-06T01:03:18.545576500Z",
     "start_time": "2024-08-06T01:03:18.538178300Z"
    }
   },
   "id": "530107b28bedb244"
  },
  {
   "cell_type": "markdown",
   "source": [
    "# Setting Up"
   ],
   "metadata": {
    "collapsed": false
   },
   "id": "448901ebd30c2905"
  },
  {
   "cell_type": "markdown",
   "source": [
    "# Running Experiments"
   ],
   "metadata": {
    "collapsed": false
   },
   "id": "18a5b9a89cd701d8"
  },
  {
   "cell_type": "code",
   "execution_count": null,
   "outputs": [],
   "source": [],
   "metadata": {
    "collapsed": false
   },
   "id": "b7173822e564475d"
  },
  {
   "cell_type": "markdown",
   "source": [
    "# Using Results"
   ],
   "metadata": {
    "collapsed": false
   },
   "id": "b999e773472efb41"
  },
  {
   "cell_type": "markdown",
   "source": [],
   "metadata": {
    "collapsed": false
   },
   "id": "2a6173b817a727e9"
  }
 ],
 "metadata": {
  "kernelspec": {
   "display_name": "Python 3",
   "language": "python",
   "name": "python3"
  },
  "language_info": {
   "codemirror_mode": {
    "name": "ipython",
    "version": 2
   },
   "file_extension": ".py",
   "mimetype": "text/x-python",
   "name": "python",
   "nbconvert_exporter": "python",
   "pygments_lexer": "ipython2",
   "version": "2.7.6"
  }
 },
 "nbformat": 4,
 "nbformat_minor": 5
}
